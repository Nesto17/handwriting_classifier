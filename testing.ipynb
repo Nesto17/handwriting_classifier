{
 "cells": [
  {
   "cell_type": "code",
   "execution_count": 1,
   "id": "df98fc49-2c67-4708-b640-f68ec5fd2eef",
   "metadata": {
    "tags": []
   },
   "outputs": [
    {
     "name": "stderr",
     "output_type": "stream",
     "text": [
      "/Users/ernestsalim/anaconda3/lib/python3.10/site-packages/tqdm/auto.py:22: TqdmWarning: IProgress not found. Please update jupyter and ipywidgets. See https://ipywidgets.readthedocs.io/en/stable/user_install.html\n",
      "  from .autonotebook import tqdm as notebook_tqdm\n"
     ]
    }
   ],
   "source": [
    "import numpy as np\n",
    "import pandas as pd\n",
    "from matplotlib import pyplot as plt\n",
    "import tensorflow as tf\n",
    "import tensorflow_datasets as tfds\n",
    "from sklearn.model_selection import train_test_split"
   ]
  },
  {
   "cell_type": "markdown",
   "id": "add6cc64",
   "metadata": {},
   "source": [
    "## Preprocessing"
   ]
  },
  {
   "cell_type": "code",
   "execution_count": 2,
   "id": "b71091b5",
   "metadata": {
    "tags": []
   },
   "outputs": [
    {
     "name": "stderr",
     "output_type": "stream",
     "text": [
      "2023-07-17 10:25:56.781743: I metal_plugin/src/device/metal_device.cc:1154] Metal device set to: Apple M1\n",
      "2023-07-17 10:25:56.781787: I metal_plugin/src/device/metal_device.cc:296] systemMemory: 8.00 GB\n",
      "2023-07-17 10:25:56.781793: I metal_plugin/src/device/metal_device.cc:313] maxCacheSize: 2.67 GB\n",
      "2023-07-17 10:25:56.782389: I tensorflow/core/common_runtime/pluggable_device/pluggable_device_factory.cc:303] Could not identify NUMA node of platform GPU ID 0, defaulting to 0. Your kernel may not have been built with NUMA support.\n",
      "2023-07-17 10:25:56.782907: I tensorflow/core/common_runtime/pluggable_device/pluggable_device_factory.cc:269] Created TensorFlow device (/job:localhost/replica:0/task:0/device:GPU:0 with 0 MB memory) -> physical PluggableDevice (device: 0, name: METAL, pci bus id: <undefined>)\n"
     ]
    }
   ],
   "source": [
    "train_ds, test_ds = tfds.load('emnist/letters', split = ['train', 'test'])"
   ]
  },
  {
   "cell_type": "code",
   "execution_count": 3,
   "id": "ed834284-cd53-4294-86f6-e3c4bca9df4d",
   "metadata": {},
   "outputs": [],
   "source": [
    "train_df = tfds.as_dataframe(train_ds)\n",
    "test_df = tfds.as_dataframe(test_ds)"
   ]
  },
  {
   "cell_type": "code",
   "execution_count": 4,
   "id": "3665b4f4-2ea8-4504-bec2-f57dca27e88a",
   "metadata": {},
   "outputs": [
    {
     "name": "stdout",
     "output_type": "stream",
     "text": [
      "Training example size: 88800\n",
      "Testing example size: 14800\n"
     ]
    }
   ],
   "source": [
    "print(f'Training example size: {len(train_df)}')\n",
    "print(f'Testing example size: {len(test_df)}')"
   ]
  },
  {
   "cell_type": "code",
   "execution_count": 5,
   "id": "ca579357-7ced-442d-90b4-2488f38ee0fe",
   "metadata": {},
   "outputs": [
    {
     "name": "stdout",
     "output_type": "stream",
     "text": [
      "Shape of a single image data: (28, 28, 1)\n"
     ]
    }
   ],
   "source": [
    "print(f'Shape of a single image data: {train_df.iloc[0, 0].shape}')"
   ]
  },
  {
   "cell_type": "code",
   "execution_count": 32,
   "id": "76bd76e5-9ee6-421a-a4f4-701cf10eef90",
   "metadata": {},
   "outputs": [
    {
     "data": {
      "text/plain": [
       "(784,)"
      ]
     },
     "execution_count": 32,
     "metadata": {},
     "output_type": "execute_result"
    }
   ],
   "source": [
    "train_df['image'][0].ravel().shape"
   ]
  },
  {
   "cell_type": "code",
   "execution_count": 35,
   "id": "da1d4167-9ae3-4927-8df1-38e6728c8b28",
   "metadata": {},
   "outputs": [],
   "source": [
    "X_train = train_df['image'].apply(lambda a: a.flatten())\n",
    "y_train = train_df['label']\n",
    "\n",
    "X_test = test_df['image'].apply(lambda a: a.flatten())\n",
    "y_test = test_df['label']"
   ]
  },
  {
   "cell_type": "code",
   "execution_count": 36,
   "id": "9c4017aa-dbca-4bd7-be4b-6090c87c4c4e",
   "metadata": {},
   "outputs": [
    {
     "name": "stdout",
     "output_type": "stream",
     "text": [
      "Shape of a flatten single image data: (784,)\n"
     ]
    }
   ],
   "source": [
    "print(f'Shape of a flatten single image data: {X_train[0].shape}')"
   ]
  },
  {
   "cell_type": "code",
   "execution_count": 54,
   "id": "dcab9af0-b988-4bbe-94dd-dfaafc29db1e",
   "metadata": {},
   "outputs": [],
   "source": [
    "X_train = np.vstack(X_train)\n",
    "X_test = np.vstack(X_test)"
   ]
  },
  {
   "cell_type": "code",
   "execution_count": 55,
   "id": "2c92ce0d-e760-4e7b-bb83-b3776bed5659",
   "metadata": {},
   "outputs": [
    {
     "name": "stdout",
     "output_type": "stream",
     "text": [
      "Shape of input vector: (88800, 784)\n"
     ]
    }
   ],
   "source": [
    "print(f'Shape of input vector: {X_train.shape}')"
   ]
  },
  {
   "cell_type": "code",
   "execution_count": 60,
   "id": "fec68d80-5a67-45f3-b219-6276767e1b27",
   "metadata": {},
   "outputs": [],
   "source": [
    "letter_classes = y_train.unique()\n",
    "letter_nums = len(letter_classes)"
   ]
  },
  {
   "cell_type": "markdown",
   "id": "2229614d-5f7e-47fb-869e-1bfed0f3c743",
   "metadata": {},
   "source": [
    "## Train Model"
   ]
  },
  {
   "cell_type": "code",
   "execution_count": 158,
   "id": "4f3ad7b7-b806-4361-9060-e15737065a62",
   "metadata": {},
   "outputs": [],
   "source": [
    "X_train = tf.keras.utils.normalize(X_train)\n",
    "X_test = tf.keras.utils.normalize(X_test)"
   ]
  },
  {
   "cell_type": "code",
   "execution_count": 164,
   "id": "894a554c-a13f-41c8-859d-c8a30f356374",
   "metadata": {},
   "outputs": [],
   "source": [
    "tf.random.set_seed(1234)\n",
    "model = tf.keras.models.Sequential(layers = [\n",
    "    tf.keras.Input(shape = (784, )),\n",
    "    tf.keras.layers.Dense(units = 64, activation = 'relu'),\n",
    "    tf.keras.layers.Dense(units = 128, activation = 'relu'),\n",
    "    tf.keras.layers.Dense(units = letter_nums, activation = 'linear')\n",
    "])"
   ]
  },
  {
   "cell_type": "code",
   "execution_count": 165,
   "id": "7e5bee1c-4cb2-4809-9e2d-c5781f103b1c",
   "metadata": {},
   "outputs": [],
   "source": [
    "opt = tf.keras.optimizers.SGD(learning_rate = 0.002)\n",
    "model.compile(optimizer = opt, loss = tf.keras.losses.SparseCategoricalCrossentropy(from_logits = True))"
   ]
  },
  {
   "cell_type": "code",
   "execution_count": 166,
   "id": "801fe34a-5456-49e1-8076-ad5a5a7e6d7f",
   "metadata": {},
   "outputs": [
    {
     "name": "stdout",
     "output_type": "stream",
     "text": [
      "Epoch 1/20\n",
      "  38/2775 [..............................] - ETA: 7s - loss: 3.1348 "
     ]
    },
    {
     "name": "stderr",
     "output_type": "stream",
     "text": [
      "2023-07-17 12:23:59.118913: I tensorflow/core/grappler/optimizers/custom_graph_optimizer_registry.cc:114] Plugin optimizer for device_type GPU is enabled.\n",
      "2023-07-17 12:23:59.129049: E tensorflow/core/grappler/optimizers/meta_optimizer.cc:954] model_pruner failed: INVALID_ARGUMENT: Graph does not contain terminal node SGD/AssignVariableOp.\n"
     ]
    },
    {
     "name": "stdout",
     "output_type": "stream",
     "text": [
      "2775/2775 [==============================] - 7s 3ms/step - loss: 3.1172\n",
      "Epoch 2/20\n",
      "2775/2775 [==============================] - 7s 3ms/step - loss: 3.0915\n",
      "Epoch 3/20\n",
      "2775/2775 [==============================] - 8s 3ms/step - loss: 3.0624\n",
      "Epoch 4/20\n",
      "2775/2775 [==============================] - 8s 3ms/step - loss: 3.0215\n",
      "Epoch 5/20\n",
      "2775/2775 [==============================] - 8s 3ms/step - loss: 2.9600\n",
      "Epoch 6/20\n",
      "2775/2775 [==============================] - 8s 3ms/step - loss: 2.8663\n",
      "Epoch 7/20\n",
      "2775/2775 [==============================] - 8s 3ms/step - loss: 2.7336\n",
      "Epoch 8/20\n",
      "2775/2775 [==============================] - 8s 3ms/step - loss: 2.5707\n",
      "Epoch 9/20\n",
      "2775/2775 [==============================] - 8s 3ms/step - loss: 2.3952\n",
      "Epoch 10/20\n",
      "2775/2775 [==============================] - 8s 3ms/step - loss: 2.2249\n",
      "Epoch 11/20\n",
      "2775/2775 [==============================] - 8s 3ms/step - loss: 2.0734\n",
      "Epoch 12/20\n",
      "2775/2775 [==============================] - 7s 3ms/step - loss: 1.9460\n",
      "Epoch 13/20\n",
      "2775/2775 [==============================] - 7s 3ms/step - loss: 1.8406\n",
      "Epoch 14/20\n",
      "2775/2775 [==============================] - 17s 6ms/step - loss: 1.7549\n",
      "Epoch 15/20\n",
      "2775/2775 [==============================] - 11s 4ms/step - loss: 1.6854\n",
      "Epoch 16/20\n",
      "2775/2775 [==============================] - 8s 3ms/step - loss: 1.6280\n",
      "Epoch 17/20\n",
      "2775/2775 [==============================] - 8s 3ms/step - loss: 1.5792\n",
      "Epoch 18/20\n",
      "2775/2775 [==============================] - 7s 3ms/step - loss: 1.5377\n",
      "Epoch 19/20\n",
      "2775/2775 [==============================] - 8s 3ms/step - loss: 1.5027\n",
      "Epoch 20/20\n",
      "2775/2775 [==============================] - 8s 3ms/step - loss: 1.4881\n",
      "INFO:tensorflow:Assets written to: Letter Handwriting Recognition/assets\n"
     ]
    },
    {
     "name": "stderr",
     "output_type": "stream",
     "text": [
      "INFO:tensorflow:Assets written to: Letter Handwriting Recognition/assets\n"
     ]
    }
   ],
   "source": [
    "model.fit(X_train, y_train, epochs = 20)\n",
    "model.save('Letter Handwriting Recognition')"
   ]
  },
  {
   "cell_type": "markdown",
   "id": "1917a08f-f428-4738-9912-489b0c9c4c2d",
   "metadata": {},
   "source": [
    "## Load Saved Model"
   ]
  },
  {
   "cell_type": "code",
   "execution_count": 50,
   "id": "52fc325e-86eb-41db-a010-187dff43708c",
   "metadata": {},
   "outputs": [],
   "source": [
    "model = tf.keras.models.load_model('Digit Handwriting Recognition')"
   ]
  },
  {
   "cell_type": "code",
   "execution_count": 167,
   "id": "55542ad1-c0b5-40b1-b5f8-92c1c980dd47",
   "metadata": {},
   "outputs": [
    {
     "name": "stdout",
     "output_type": "stream",
     "text": [
      "  1/463 [..............................] - ETA: 1:55 - loss: 1.4418"
     ]
    },
    {
     "name": "stderr",
     "output_type": "stream",
     "text": [
      "2023-07-17 12:26:48.540718: I tensorflow/core/grappler/optimizers/custom_graph_optimizer_registry.cc:114] Plugin optimizer for device_type GPU is enabled.\n"
     ]
    },
    {
     "name": "stdout",
     "output_type": "stream",
     "text": [
      "463/463 [==============================] - 2s 4ms/step - loss: 1.6031\n"
     ]
    }
   ],
   "source": [
    "loss = model.evaluate(X_test, y_test)"
   ]
  },
  {
   "cell_type": "code",
   "execution_count": 221,
   "id": "953ebe80-6755-4702-ae81-10a5468fb4d8",
   "metadata": {},
   "outputs": [
    {
     "name": "stdout",
     "output_type": "stream",
     "text": [
      "463/463 [==============================] - 1s 1ms/step\n"
     ]
    }
   ],
   "source": [
    "pred = model.predict(X_test)"
   ]
  },
  {
   "cell_type": "code",
   "execution_count": 222,
   "id": "5e7059e2-b698-4514-9d09-fd202e300533",
   "metadata": {},
   "outputs": [],
   "source": [
    "y_hat = np.apply_along_axis(lambda arr: np.argmax(arr), 1, pred)"
   ]
  },
  {
   "cell_type": "code",
   "execution_count": 233,
   "id": "d1ebb043-5c03-4914-9a95-c92bfe27b4f6",
   "metadata": {},
   "outputs": [],
   "source": [
    "correct_predictions = np.sum(y_hat == y_test)"
   ]
  },
  {
   "cell_type": "code",
   "execution_count": 235,
   "id": "065c46ca-9c86-412b-98f3-a23ee8c3bcf2",
   "metadata": {},
   "outputs": [
    {
     "name": "stdout",
     "output_type": "stream",
     "text": [
      "Test Accuracy: 0.5082432432432432\n"
     ]
    }
   ],
   "source": [
    "print(f'Test Accuracy: {correct_predictions / len(y_hat)}')"
   ]
  },
  {
   "cell_type": "code",
   "execution_count": 236,
   "id": "445c9612-a518-4de8-bc01-8c247bfa508b",
   "metadata": {},
   "outputs": [
    {
     "name": "stdout",
     "output_type": "stream",
     "text": [
      "2775/2775 [==============================] - 4s 1ms/step\n"
     ]
    }
   ],
   "source": [
    "train_pred = model.predict(X_train)"
   ]
  },
  {
   "cell_type": "code",
   "execution_count": 237,
   "id": "1f20958d-7d32-413e-99cb-c70edf7de13c",
   "metadata": {},
   "outputs": [],
   "source": [
    "y_train_hat = np.apply_along_axis(lambda arr: np.argmax(arr), 1, train_pred)"
   ]
  },
  {
   "cell_type": "code",
   "execution_count": 238,
   "id": "105f91ec-cb52-44f5-a106-91236a43975c",
   "metadata": {},
   "outputs": [],
   "source": [
    "correct_predictions = np.sum(y_train_hat == y_train)"
   ]
  },
  {
   "cell_type": "code",
   "execution_count": 239,
   "id": "2a95a404-763b-46bf-a9f0-4728423e6f0d",
   "metadata": {},
   "outputs": [
    {
     "data": {
      "text/plain": [
       "44368"
      ]
     },
     "execution_count": 239,
     "metadata": {},
     "output_type": "execute_result"
    }
   ],
   "source": [
    "correct_predictions"
   ]
  },
  {
   "cell_type": "code",
   "execution_count": 240,
   "id": "a072072f-08de-41de-823d-cfce2b5f9475",
   "metadata": {},
   "outputs": [
    {
     "name": "stdout",
     "output_type": "stream",
     "text": [
      "Test Accuracy: 0.49963963963963964\n"
     ]
    }
   ],
   "source": [
    "print(f'Test Accuracy: {correct_predictions / len(y_train)}')"
   ]
  },
  {
   "cell_type": "code",
   "execution_count": null,
   "id": "8cfa0bfa-f007-476b-ab6a-7c5b1d8db58c",
   "metadata": {},
   "outputs": [],
   "source": []
  }
 ],
 "metadata": {
  "kernelspec": {
   "display_name": "Python 3 (ipykernel)",
   "language": "python",
   "name": "python3"
  },
  "language_info": {
   "codemirror_mode": {
    "name": "ipython",
    "version": 3
   },
   "file_extension": ".py",
   "mimetype": "text/x-python",
   "name": "python",
   "nbconvert_exporter": "python",
   "pygments_lexer": "ipython3",
   "version": "3.10.9"
  }
 },
 "nbformat": 4,
 "nbformat_minor": 5
}
